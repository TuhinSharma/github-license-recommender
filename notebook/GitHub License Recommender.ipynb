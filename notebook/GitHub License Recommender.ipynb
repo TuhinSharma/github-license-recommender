{
 "cells": [
  {
   "cell_type": "code",
   "execution_count": 1,
   "metadata": {
    "collapsed": true
   },
   "outputs": [],
   "source": [
    "import networkx as nx\n",
    "from nxpd import draw"
   ]
  },
  {
   "cell_type": "code",
   "execution_count": 2,
   "metadata": {
    "collapsed": true
   },
   "outputs": [],
   "source": [
    "class GithubLicenseGraph():\n",
    "    def __init__(self,graph):\n",
    "        self.graph = graph\n",
    "        self.license_type_tuple = ('P','WP','SP','NP')\n",
    "        \n",
    "    def get_vertex(self,name):\n",
    "        for vertex in self.graph.nodes():\n",
    "            if name in self.graph.node[vertex][\"names\"]:\n",
    "                return vertex\n",
    "        return None\n",
    "        \n",
    "    \n",
    "    def get_reachable_vertices(self,node):\n",
    "        reachable_node_list = nx.descendants(self.graph,node)\n",
    "        return [node]+list(reachable_node_list)\n",
    "    \n",
    "    def get_common_destination_license_vertex(self,list_of_licenses):\n",
    "        list_of_licenses = [self.get_vertex(x) for x in list_of_licenses]\n",
    "        reachable_vertex_list = None\n",
    "        for vertex in list_of_licenses:\n",
    "            reachable_vertices = self.get_reachable_vertices(vertex)\n",
    "            reachable_licenses = reachable_vertices\n",
    "            if reachable_vertex_list is None:\n",
    "                reachable_vertex_list = reachable_licenses\n",
    "            else:\n",
    "                reachable_vertex_list = [license_vertex for license_vertex in reachable_vertex_list if license_vertex in reachable_licenses ]\n",
    "        common_destination = None\n",
    "        if len(reachable_vertex_list)>0:\n",
    "            for license_vertex in reachable_vertex_list:\n",
    "                if license_vertex in list_of_licenses:\n",
    "                    common_destination = license_vertex\n",
    "            if common_destination is None:\n",
    "                for license_type in self.license_type_tuple:\n",
    "                    for x in reachable_vertex_list: \n",
    "                        if self.graph.node[x]['permission'] == license_type:\n",
    "                            common_destination = x \n",
    "                        if common_destination is not None:\n",
    "                            break\n",
    "                    if common_destination is not None:\n",
    "                            break\n",
    "        return common_destination\n",
    "    \n",
    "    @classmethod\n",
    "    def train(cls):\n",
    "        G = nx.DiGraph()\n",
    "        G.add_node('pd',{'names':['PD'],'permission':'P'})\n",
    "        G.add_node('mit',{'names':['MIT'],'permission':'P'})\n",
    "        G.add_node('bsd',{'names':['BSD'],'permission':'P'})\n",
    "        G.add_node('apache',{'names':['APACHE'],'permission':'P'})\n",
    "        G.add_node('lgpl2',{'names':['LGPL V2.1'],'permission':'WP'})\n",
    "        G.add_node('lgpl22',{'names':['LGPL V2.1+'],'permission':'WP'})\n",
    "        G.add_node('lgpl3',{'names':['LGPL V3+'],'permission':'WP'})\n",
    "        G.add_node('mpl',{'names':['MPL 1.1'],'permission':'WP'})\n",
    "        G.add_node('gpl2',{'names':['GPL V2'],'permission':'SP'})\n",
    "        G.add_node('gpl22',{'names':['GPL V2+'],'permission':'SP'})\n",
    "        G.add_node('gpl3',{'names':['GPL V3+'],'permission':'SP'})\n",
    "        G.add_node('agpl3',{'names':['AGPL V3+'],'permission':'NP'})\n",
    "\n",
    "        G.add_edges_from([('pd','mit'),('mit','bsd'),('bsd','apache'),('bsd','mpl'),('bsd','lgpl2'),('bsd','lgpl22'),('bsd','lgpl3'),('apache','lgpl3'),\n",
    "                          ('lgpl22','lgpl2'),('lgpl22','lgpl3'),('lgpl2','gpl2'),('lgpl2','gpl22'),('lgpl22','gpl22'),('lgpl3', 'gpl3'),('gpl22','gpl2'),\n",
    "                         ('gpl22','gpl3'),('gpl3','agpl3')])\n",
    "        return GithubLicenseGraph(G)\n",
    "\n",
    "\n",
    "    @classmethod\n",
    "    def load(cls, filename):\n",
    "        \"\"\"\n",
    "        Loads already saved Graph\n",
    "        \"\"\"\n",
    "        G = nx.read_gpickle(filename)\n",
    "        return GithubLicenseGraph(G)\n",
    "\n",
    "    def save(self, filename):\n",
    "        \"\"\"\n",
    "        Saves the Gnosis in data_store\n",
    "        \"\"\"\n",
    "        nx.write_gpickle(self.graph,filename)\n",
    "        return None\n",
    "    \n",
    "    def show(self):\n",
    "        draw(self.graph)"
   ]
  },
  {
   "cell_type": "code",
   "execution_count": 3,
   "metadata": {},
   "outputs": [
    {
     "name": "stdout",
     "output_type": "stream",
     "text": [
      "<type 'instance'>\n"
     ]
    }
   ],
   "source": [
    "\n",
    "g = GithubLicenseGraph.train()\n",
    "print type(g)"
   ]
  },
  {
   "cell_type": "code",
   "execution_count": 4,
   "metadata": {},
   "outputs": [],
   "source": [
    "g.save(filename=\"../test/data/github_license_graph.pkl\")"
   ]
  },
  {
   "cell_type": "code",
   "execution_count": 5,
   "metadata": {},
   "outputs": [],
   "source": [
    "g = GithubLicenseGraph.load(filename=\"../test/data/github_license_graph.pkl\")"
   ]
  },
  {
   "cell_type": "code",
   "execution_count": 6,
   "metadata": {},
   "outputs": [
    {
     "name": "stdout",
     "output_type": "stream",
     "text": [
      "gpl3\n"
     ]
    }
   ],
   "source": [
    "m = g.get_common_destination_license_vertex(['LGPL V2.1','APACHE'])\n",
    "print m"
   ]
  },
  {
   "cell_type": "code",
   "execution_count": 7,
   "metadata": {},
   "outputs": [
    {
     "name": "stdout",
     "output_type": "stream",
     "text": [
      "apache\n"
     ]
    }
   ],
   "source": [
    "m = g.get_common_destination_license_vertex(['PD','APACHE'])\n",
    "print m"
   ]
  },
  {
   "cell_type": "code",
   "execution_count": 8,
   "metadata": {},
   "outputs": [
    {
     "name": "stdout",
     "output_type": "stream",
     "text": [
      "lgpl22\n"
     ]
    }
   ],
   "source": [
    "m = g.get_common_destination_license_vertex(['BSD','LGPL V2.1+'])\n",
    "print m"
   ]
  },
  {
   "cell_type": "code",
   "execution_count": 9,
   "metadata": {},
   "outputs": [
    {
     "name": "stdout",
     "output_type": "stream",
     "text": [
      "gpl3\n"
     ]
    }
   ],
   "source": [
    "m = g.get_common_destination_license_vertex(['BSD','LGPL V2.1+','GPL V3+'])\n",
    "print m"
   ]
  },
  {
   "cell_type": "code",
   "execution_count": 10,
   "metadata": {},
   "outputs": [
    {
     "name": "stdout",
     "output_type": "stream",
     "text": [
      "gpl3\n"
     ]
    }
   ],
   "source": [
    "m = g.get_common_destination_license_vertex(['MIT','GPL V2+','APACHE'])\n",
    "print m"
   ]
  },
  {
   "cell_type": "code",
   "execution_count": 11,
   "metadata": {},
   "outputs": [
    {
     "name": "stdout",
     "output_type": "stream",
     "text": [
      "None\n"
     ]
    }
   ],
   "source": [
    "m = g.get_common_destination_license_vertex(['GPL V2','APACHE'])\n",
    "print m"
   ]
  },
  {
   "cell_type": "code",
   "execution_count": 12,
   "metadata": {
    "collapsed": true
   },
   "outputs": [],
   "source": [
    "g.show()\n",
    "\n",
    "\n",
    "\n",
    "\n",
    "\n",
    "\n"
   ]
  },
  {
   "cell_type": "code",
   "execution_count": null,
   "metadata": {
    "collapsed": true
   },
   "outputs": [],
   "source": []
  }
 ],
 "metadata": {
  "kernelspec": {
   "display_name": "Python 2",
   "language": "python",
   "name": "python2"
  },
  "language_info": {
   "codemirror_mode": {
    "name": "ipython",
    "version": 2
   },
   "file_extension": ".py",
   "mimetype": "text/x-python",
   "name": "python",
   "nbconvert_exporter": "python",
   "pygments_lexer": "ipython2",
   "version": "2.7.13"
  }
 },
 "nbformat": 4,
 "nbformat_minor": 2
}
